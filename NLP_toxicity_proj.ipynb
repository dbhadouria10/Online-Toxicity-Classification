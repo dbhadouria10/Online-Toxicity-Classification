{
 "cells": [
  {
   "cell_type": "markdown",
   "id": "0b237503",
   "metadata": {},
   "source": [
    "# Project - Toxic comment classification with NLP and Deep Learning \n",
    "                                                                   Deepak Bhadouria, Surendra Pothuri"
   ]
  },
  {
   "cell_type": "markdown",
   "id": "e3925f76",
   "metadata": {},
   "source": [
    "## Introduction\n",
    "The main goal of this project is to develop a multi-label classification model capable of accurately identifying different levels of toxicity in online comments. It is based on the \"Toxic Comment Classification Challenge,\" a public Kaggle competition that addresses the task of detecting various types of toxicity in comments. "
   ]
  },
  {
   "cell_type": "markdown",
   "id": "08e42548",
   "metadata": {},
   "source": [
    "## Project Outline\n",
    "\n",
    "This notebook is organized into the following steps:\n",
    "\n",
    "* Import Data: Load the dataset\n",
    "    \n",
    "* Data Exploration: Analyze and visualize the data to gain insights into the dataset\n",
    "    \n",
    "* Data Preparation: Preprocess the text data, including cleaning, tokenization, and TF-IDF\n",
    "    \n",
    "* Modeling :\n",
    "  * Baseline Model : LSTM with single layer\n",
    "  * Model 1 : Convolutional Neural Network (CNN)\n",
    "  * Model 2 : Recurrent Neural Network (RNN)\n",
    "  * Model 4 : Gated Recurrent Unit (GRU)\n",
    "    \n",
    "* Evaluation"
   ]
  },
  {
   "cell_type": "markdown",
   "id": "53cc50ab",
   "metadata": {},
   "source": [
    "## Import Libraries"
   ]
  },
  {
   "cell_type": "code",
   "execution_count": 95,
   "id": "398bbd95",
   "metadata": {},
   "outputs": [
    {
     "name": "stderr",
     "output_type": "stream",
     "text": [
      "[nltk_data] Downloading package stopwords to\n",
      "[nltk_data]     /Users/nehachauhan/nltk_data...\n",
      "[nltk_data]   Package stopwords is already up-to-date!\n",
      "[nltk_data] Downloading package punkt to\n",
      "[nltk_data]     /Users/nehachauhan/nltk_data...\n",
      "[nltk_data]   Package punkt is already up-to-date!\n",
      "[nltk_data] Downloading package wordnet to\n",
      "[nltk_data]     /Users/nehachauhan/nltk_data...\n",
      "[nltk_data]   Package wordnet is already up-to-date!\n",
      "[nltk_data] Downloading package omw-1.4 to\n",
      "[nltk_data]     /Users/nehachauhan/nltk_data...\n",
      "[nltk_data]   Package omw-1.4 is already up-to-date!\n"
     ]
    }
   ],
   "source": [
    "import pandas as pd\n",
    "import numpy as np\n",
    "import tensorflow as tf\n",
    "import re\n",
    "import random\n",
    "import matplotlib.pyplot as plt\n",
    "import matplotlib.gridspec as gridspec\n",
    "import seaborn as sns\n",
    "import nltk\n",
    "import pickle\n",
    "nltk.download('stopwords')\n",
    "nltk.download('punkt')\n",
    "nltk.download('wordnet')\n",
    "nltk.download('omw-1.4')\n",
    "import string\n",
    "from wordcloud import WordCloud\n",
    "from PIL import Image\n",
    "from nltk.corpus import stopwords\n",
    "from nltk.stem.wordnet import WordNetLemmatizer \n",
    "from keras.preprocessing.text import Tokenizer\n",
    "from tensorflow.keras.layers import TextVectorization\n",
    "from tensorflow.keras.preprocessing.sequence import pad_sequences\n",
    "from keras.layers import Dense, Input, LSTM, GRU, SimpleRNN, Embedding, Dropout, Activation, Flatten, Bidirectional, GlobalMaxPool1D\n",
    "from keras.models import Model, Sequential\n",
    "from keras import initializers, regularizers, constraints, optimizers, layers\n",
    "from keras.callbacks import Callback, ModelCheckpoint, EarlyStopping \n",
    "from keras.layers.convolutional import Conv1D, MaxPooling1D\n",
    "from keras.utils.vis_utils import plot_model\n",
    "from scipy.sparse import hstack\n",
    "from sklearn.feature_extraction.text import TfidfVectorizer, CountVectorizer, HashingVectorizer\n",
    "from sklearn.model_selection import cross_val_score, train_test_split\n",
    "from sklearn.metrics import roc_auc_score\n",
    "from sklearn.linear_model import LogisticRegression\n",
    "from sklearn.metrics import roc_curve, auc\n",
    "import warnings\n",
    "warnings.filterwarnings(\"ignore\")"
   ]
  },
  {
   "cell_type": "code",
   "execution_count": 96,
   "id": "9b88e273",
   "metadata": {},
   "outputs": [
    {
     "name": "stdout",
     "output_type": "stream",
     "text": [
      "Trainning set = 159571 records and Testing set = 153164 records.\n"
     ]
    }
   ],
   "source": [
    "pd.set_option('display.max_colwidth', 10000)\n",
    "train = pd.read_csv('train.csv')\n",
    "test = pd.read_csv('test.csv')\n",
    "print('Trainning set = {} records and Testing set = {} records.'.format(len(train),len(test)))"
   ]
  },
  {
   "cell_type": "code",
   "execution_count": 97,
   "id": "91df053b",
   "metadata": {},
   "outputs": [
    {
     "name": "stdout",
     "output_type": "stream",
     "text": [
      "Shape of train data: (159571, 8)\n",
      "Shape of test data: (153164, 2)\n"
     ]
    }
   ],
   "source": [
    "print(\"Shape of train data:\", train.shape)\n",
    "print(\"Shape of test data:\", test.shape)"
   ]
  },
  {
   "cell_type": "markdown",
   "id": "55c42c20",
   "metadata": {},
   "source": [
    "## EDA and Visualization"
   ]
  },
  {
   "cell_type": "code",
   "execution_count": 98,
   "id": "a188259d",
   "metadata": {},
   "outputs": [
    {
     "data": {
      "text/html": [
       "<div>\n",
       "<style scoped>\n",
       "    .dataframe tbody tr th:only-of-type {\n",
       "        vertical-align: middle;\n",
       "    }\n",
       "\n",
       "    .dataframe tbody tr th {\n",
       "        vertical-align: top;\n",
       "    }\n",
       "\n",
       "    .dataframe thead th {\n",
       "        text-align: right;\n",
       "    }\n",
       "</style>\n",
       "<table border=\"1\" class=\"dataframe\">\n",
       "  <thead>\n",
       "    <tr style=\"text-align: right;\">\n",
       "      <th></th>\n",
       "      <th>id</th>\n",
       "      <th>comment_text</th>\n",
       "      <th>toxic</th>\n",
       "      <th>severe_toxic</th>\n",
       "      <th>obscene</th>\n",
       "      <th>threat</th>\n",
       "      <th>insult</th>\n",
       "      <th>identity_hate</th>\n",
       "    </tr>\n",
       "  </thead>\n",
       "  <tbody>\n",
       "    <tr>\n",
       "      <th>0</th>\n",
       "      <td>0000997932d777bf</td>\n",
       "      <td>Explanation\\nWhy the edits made under my username Hardcore Metallica Fan were reverted? They weren't vandalisms, just closure on some GAs after I voted at New York Dolls FAC. And please don't remove the template from the talk page since I'm retired now.89.205.38.27</td>\n",
       "      <td>0</td>\n",
       "      <td>0</td>\n",
       "      <td>0</td>\n",
       "      <td>0</td>\n",
       "      <td>0</td>\n",
       "      <td>0</td>\n",
       "    </tr>\n",
       "    <tr>\n",
       "      <th>1</th>\n",
       "      <td>000103f0d9cfb60f</td>\n",
       "      <td>D'aww! He matches this background colour I'm seemingly stuck with. Thanks.  (talk) 21:51, January 11, 2016 (UTC)</td>\n",
       "      <td>0</td>\n",
       "      <td>0</td>\n",
       "      <td>0</td>\n",
       "      <td>0</td>\n",
       "      <td>0</td>\n",
       "      <td>0</td>\n",
       "    </tr>\n",
       "    <tr>\n",
       "      <th>2</th>\n",
       "      <td>000113f07ec002fd</td>\n",
       "      <td>Hey man, I'm really not trying to edit war. It's just that this guy is constantly removing relevant information and talking to me through edits instead of my talk page. He seems to care more about the formatting than the actual info.</td>\n",
       "      <td>0</td>\n",
       "      <td>0</td>\n",
       "      <td>0</td>\n",
       "      <td>0</td>\n",
       "      <td>0</td>\n",
       "      <td>0</td>\n",
       "    </tr>\n",
       "    <tr>\n",
       "      <th>3</th>\n",
       "      <td>0001b41b1c6bb37e</td>\n",
       "      <td>\"\\nMore\\nI can't make any real suggestions on improvement - I wondered if the section statistics should be later on, or a subsection of \"\"types of accidents\"\"  -I think the references may need tidying so that they are all in the exact same format ie date format etc. I can do that later on, if no-one else does first - if you have any preferences for formatting style on references or want to do it yourself please let me know.\\n\\nThere appears to be a backlog on articles for review so I guess there may be a delay until a reviewer turns up. It's listed in the relevant form eg Wikipedia:Good_article_nominations#Transport  \"</td>\n",
       "      <td>0</td>\n",
       "      <td>0</td>\n",
       "      <td>0</td>\n",
       "      <td>0</td>\n",
       "      <td>0</td>\n",
       "      <td>0</td>\n",
       "    </tr>\n",
       "    <tr>\n",
       "      <th>4</th>\n",
       "      <td>0001d958c54c6e35</td>\n",
       "      <td>You, sir, are my hero. Any chance you remember what page that's on?</td>\n",
       "      <td>0</td>\n",
       "      <td>0</td>\n",
       "      <td>0</td>\n",
       "      <td>0</td>\n",
       "      <td>0</td>\n",
       "      <td>0</td>\n",
       "    </tr>\n",
       "  </tbody>\n",
       "</table>\n",
       "</div>"
      ],
      "text/plain": [
       "                 id  \\\n",
       "0  0000997932d777bf   \n",
       "1  000103f0d9cfb60f   \n",
       "2  000113f07ec002fd   \n",
       "3  0001b41b1c6bb37e   \n",
       "4  0001d958c54c6e35   \n",
       "\n",
       "                                                                                                                                                                                                                                                                                                                                                                                                                                                                                                                                                                                                                                         comment_text  \\\n",
       "0                                                                                                                                                                                                                                                                                                                                                                           Explanation\\nWhy the edits made under my username Hardcore Metallica Fan were reverted? They weren't vandalisms, just closure on some GAs after I voted at New York Dolls FAC. And please don't remove the template from the talk page since I'm retired now.89.205.38.27   \n",
       "1                                                                                                                                                                                                                                                                                                                                                                                                                                                                                                                                    D'aww! He matches this background colour I'm seemingly stuck with. Thanks.  (talk) 21:51, January 11, 2016 (UTC)   \n",
       "2                                                                                                                                                                                                                                                                                                                                                                                                           Hey man, I'm really not trying to edit war. It's just that this guy is constantly removing relevant information and talking to me through edits instead of my talk page. He seems to care more about the formatting than the actual info.   \n",
       "3  \"\\nMore\\nI can't make any real suggestions on improvement - I wondered if the section statistics should be later on, or a subsection of \"\"types of accidents\"\"  -I think the references may need tidying so that they are all in the exact same format ie date format etc. I can do that later on, if no-one else does first - if you have any preferences for formatting style on references or want to do it yourself please let me know.\\n\\nThere appears to be a backlog on articles for review so I guess there may be a delay until a reviewer turns up. It's listed in the relevant form eg Wikipedia:Good_article_nominations#Transport  \"   \n",
       "4                                                                                                                                                                                                                                                                                                                                                                                                                                                                                                                                                                                 You, sir, are my hero. Any chance you remember what page that's on?   \n",
       "\n",
       "   toxic  severe_toxic  obscene  threat  insult  identity_hate  \n",
       "0      0             0        0       0       0              0  \n",
       "1      0             0        0       0       0              0  \n",
       "2      0             0        0       0       0              0  \n",
       "3      0             0        0       0       0              0  \n",
       "4      0             0        0       0       0              0  "
      ]
     },
     "execution_count": 98,
     "metadata": {},
     "output_type": "execute_result"
    }
   ],
   "source": [
    "train.head()"
   ]
  },
  {
   "cell_type": "code",
   "execution_count": 99,
   "id": "63445e6a",
   "metadata": {},
   "outputs": [
    {
     "data": {
      "text/html": [
       "<div>\n",
       "<style scoped>\n",
       "    .dataframe tbody tr th:only-of-type {\n",
       "        vertical-align: middle;\n",
       "    }\n",
       "\n",
       "    .dataframe tbody tr th {\n",
       "        vertical-align: top;\n",
       "    }\n",
       "\n",
       "    .dataframe thead th {\n",
       "        text-align: right;\n",
       "    }\n",
       "</style>\n",
       "<table border=\"1\" class=\"dataframe\">\n",
       "  <thead>\n",
       "    <tr style=\"text-align: right;\">\n",
       "      <th></th>\n",
       "      <th>id</th>\n",
       "      <th>comment_text</th>\n",
       "    </tr>\n",
       "  </thead>\n",
       "  <tbody>\n",
       "    <tr>\n",
       "      <th>0</th>\n",
       "      <td>00001cee341fdb12</td>\n",
       "      <td>Yo bitch Ja Rule is more succesful then you'll ever be whats up with you and hating you sad mofuckas...i should bitch slap ur pethedic white faces and get you to kiss my ass you guys sicken me. Ja rule is about pride in da music man. dont diss that shit on him. and nothin is wrong bein like tupac he was a brother too...fuckin white boys get things right next time.,</td>\n",
       "    </tr>\n",
       "    <tr>\n",
       "      <th>1</th>\n",
       "      <td>0000247867823ef7</td>\n",
       "      <td>== From RfC == \\n\\n The title is fine as it is, IMO.</td>\n",
       "    </tr>\n",
       "    <tr>\n",
       "      <th>2</th>\n",
       "      <td>00013b17ad220c46</td>\n",
       "      <td>\" \\n\\n == Sources == \\n\\n * Zawe Ashton on Lapland —  /  \"</td>\n",
       "    </tr>\n",
       "    <tr>\n",
       "      <th>3</th>\n",
       "      <td>00017563c3f7919a</td>\n",
       "      <td>:If you have a look back at the source, the information I updated was the correct form. I can only guess the source hadn't updated. I shall update the information once again but thank you for your message.</td>\n",
       "    </tr>\n",
       "    <tr>\n",
       "      <th>4</th>\n",
       "      <td>00017695ad8997eb</td>\n",
       "      <td>I don't anonymously edit articles at all.</td>\n",
       "    </tr>\n",
       "  </tbody>\n",
       "</table>\n",
       "</div>"
      ],
      "text/plain": [
       "                 id  \\\n",
       "0  00001cee341fdb12   \n",
       "1  0000247867823ef7   \n",
       "2  00013b17ad220c46   \n",
       "3  00017563c3f7919a   \n",
       "4  00017695ad8997eb   \n",
       "\n",
       "                                                                                                                                                                                                                                                                                                                                                                      comment_text  \n",
       "0  Yo bitch Ja Rule is more succesful then you'll ever be whats up with you and hating you sad mofuckas...i should bitch slap ur pethedic white faces and get you to kiss my ass you guys sicken me. Ja rule is about pride in da music man. dont diss that shit on him. and nothin is wrong bein like tupac he was a brother too...fuckin white boys get things right next time.,  \n",
       "1                                                                                                                                                                                                                                                                                                                             == From RfC == \\n\\n The title is fine as it is, IMO.  \n",
       "2                                                                                                                                                                                                                                                                                                                       \" \\n\\n == Sources == \\n\\n * Zawe Ashton on Lapland —  /  \"  \n",
       "3                                                                                                                                                                    :If you have a look back at the source, the information I updated was the correct form. I can only guess the source hadn't updated. I shall update the information once again but thank you for your message.  \n",
       "4                                                                                                                                                                                                                                                                                                                                        I don't anonymously edit articles at all.  "
      ]
     },
     "execution_count": 99,
     "metadata": {},
     "output_type": "execute_result"
    }
   ],
   "source": [
    "test.head()"
   ]
  },
  {
   "cell_type": "code",
   "execution_count": 100,
   "id": "565eba49",
   "metadata": {},
   "outputs": [
    {
     "data": {
      "text/plain": [
       "(id               0\n",
       " comment_text     0\n",
       " toxic            0\n",
       " severe_toxic     0\n",
       " obscene          0\n",
       " threat           0\n",
       " insult           0\n",
       " identity_hate    0\n",
       " dtype: int64,\n",
       " id              0\n",
       " comment_text    0\n",
       " dtype: int64)"
      ]
     },
     "execution_count": 100,
     "metadata": {},
     "output_type": "execute_result"
    }
   ],
   "source": [
    "null_train = train.isnull().sum()\n",
    "null_test = test.isnull().sum()\n",
    "null_train, null_test"
   ]
  },
  {
   "cell_type": "markdown",
   "id": "711aa9b5",
   "metadata": {},
   "source": [
    "* No missing values as of now"
   ]
  },
  {
   "cell_type": "code",
   "execution_count": 101,
   "id": "e53b6c9a",
   "metadata": {},
   "outputs": [
    {
     "data": {
      "image/png": "[encoded data removed]",
      "text/plain": [
       "<Figure size 864x504 with 1 Axes>"
      ]
     },
     "metadata": {},
     "output_type": "display_data"
    },
    {
     "name": "stdout",
     "output_type": "stream",
     "text": [
      "toxic            15294\n",
      "severe_toxic      1595\n",
      "obscene           8449\n",
      "threat             478\n",
      "insult            7877\n",
      "identity_hate     1405\n",
      "dtype: int64\n"
     ]
    }
   ],
   "source": [
    "labelss = train.iloc[:, 2:].sum()\n",
    "\n",
    "cmap = plt.get_cmap('Blues')\n",
    "colors = cmap(np.linspace(0.2, 0.8, len(labelss)))\n",
    "\n",
    "plt.figure(figsize=(12, 7))\n",
    "plt.bar(labelss.index, labelss, color=colors)\n",
    "plt.xlabel('Labels')\n",
    "plt.ylabel('Count')\n",
    "plt.title('Label Counts')\n",
    "plt.show()\n",
    "\n",
    "print(labelss)"
   ]
  },
  {
   "cell_type": "markdown",
   "id": "2918a56e",
   "metadata": {},
   "source": [
    "* There are six labels for a comment as toxic, severe_toxic, threat, obscene, insult, and identity hate. Almost 85% of the toxicity comments comes under toxic, obscene and insult.\n",
    "\n",
    "* There is multi-tagging, which means some comments can have multiple labels assigned to them. This is fine because a comment that is classified as \"severe_toxic\" is highly likely to also be classified as \"toxic\" at the same time."
   ]
  },
  {
   "cell_type": "code",
   "execution_count": 102,
   "id": "35b10e27",
   "metadata": {},
   "outputs": [
    {
     "data": {
      "image/png": "[encoded data removed]",
      "text/plain": [
       "<Figure size 864x504 with 1 Axes>"
      ]
     },
     "metadata": {},
     "output_type": "display_data"
    }
   ],
   "source": [
    "multi_label = train.iloc[:, 2:].sum(axis=1).value_counts()[1:]\n",
    "fig, ax = plt.subplots(figsize=(12, 7))\n",
    "sns.barplot(x=multi_label.index,\n",
    "            y=multi_label.values,\n",
    "            ax=ax,\n",
    "            palette=\"hls\").set_title(\"Multi-Labeled distribution of comments\")\n",
    "\n",
    "plt.show()"
   ]
  },
  {
   "cell_type": "code",
   "execution_count": 103,
   "id": "c6f5b03e",
   "metadata": {},
   "outputs": [
    {
     "name": "stdout",
     "output_type": "stream",
     "text": [
      "Total comments: 159571.\n",
      "Non-toxic comments: 143346, which is 89.83% of total comments.\n"
     ]
    }
   ],
   "source": [
    "labels = train.iloc[:, 2:8]\n",
    "row_sum = labels.sum(axis=1)\n",
    "\n",
    "train['Non-toxic'] = (row_sum == 0)\n",
    "\n",
    "total_comments = len(train)\n",
    "non_toxic_comments = train['Non-toxic'].sum()\n",
    "percent_non_toxic = (non_toxic_comments / total_comments) * 100\n",
    "\n",
    "print('Total comments: {}.'.format(total_comments))\n",
    "print('Non-toxic comments: {}, which is {:.2f}% of total comments.'.format(non_toxic_comments, percent_non_toxic))"
   ]
  },
  {
   "cell_type": "markdown",
   "id": "5ee28f70",
   "metadata": {},
   "source": [
    "* About 89% of the comments are non-toxic, which means the dataset is highly imbalanced"
   ]
  },
  {
   "cell_type": "code",
   "execution_count": 104,
   "id": "ab0e527b",
   "metadata": {},
   "outputs": [
    {
     "data": {
      "image/png": "[encoded data removed]",
      "text/plain": [
       "<Figure size 720x432 with 1 Axes>"
      ]
     },
     "metadata": {},
     "output_type": "display_data"
    }
   ],
   "source": [
    "col_sum = pd.Series(labels.sum(axis=0))\n",
    "Non_toxic = pd.Series(train['Non-toxic'].sum(), index=['Non-toxic'])\n",
    "col_sum = pd.concat([Non_toxic, col_sum])\n",
    "\n",
    "plt.figure(figsize=(10, 6))\n",
    "sns.set_style(\"whitegrid\") \n",
    "\n",
    "ax = sns.barplot(col_sum.index, col_sum.values, palette=\"Set2\")\n",
    "\n",
    "for rect, label in zip(ax.patches, col_sum.values):\n",
    "    ax.text(rect.get_x() + rect.get_width()/2, rect.get_height(), label,\n",
    "            ha='center', va='bottom', fontsize=12)\n",
    "\n",
    "plt.xlabel('Subtype', fontsize=14)\n",
    "plt.ylabel('Number of Records', fontsize=14)\n",
    "plt.title('Distribution of Subtypes', fontsize=16)\n",
    "\n",
    "plt.xticks(fontsize=12, rotation=45)\n",
    "plt.yticks(fontsize=12)\n",
    "\n",
    "sns.despine()\n",
    "plt.tight_layout(pad=2)\n",
    "plt.show()"
   ]
  },
  {
   "cell_type": "code",
   "execution_count": 105,
   "id": "51615ddf",
   "metadata": {},
   "outputs": [
    {
     "name": "stdout",
     "output_type": "stream",
     "text": [
      "43628th record is \"Non-toxic\":\n",
      "Please stop vandalising articles or you will be blocked from editing.   16:47, 29 Mar 2004 (UTC)\n",
      "\n",
      "11600th record is \"toxic\":\n",
      "\"Wow! This is unbelievably sexist and demeaning. You punish me for complaining about being called a \"\"cunt\"\" and having having the words \"\"cock shit\"\" and \"\"fucking\"\" used against me repeatedly. That essentially condones that type of conduct.\n",
      "\n",
      "\"\n",
      "\n",
      "1177th record is \"severe_toxic\":\n",
      "Now Gaba p joins the long list of complete fucking assholes who revert every minor edit of the Younger Dryas impact hypothesis wiki page. Let me give you a clue, fuckface, you can't possibly justify reverting an edit that simply ads another tertiary peer reviewed publication related to this subject. It's inane, it's anal, it's uniformed and it's just plain wrong.\n",
      "\n",
      "1332th record is \"obscene\":\n",
      "Randi was born a DICK.  Randi will never overcome being a DICK.  The end.\n",
      "\n",
      "166th record is \"threat\":\n",
      "I'LL KILL YOU ALL!!!!\n",
      "\n",
      "3773th record is \"insult\":\n",
      "Dear Wikipedia assholes,\n",
      "\n",
      "I regret to inform you that because of deletionist scum such as Gavin Collins and J Milburn, I am planning to terminate my life. You see, Wikipedia was my life, and these deletionist bastards have ruined and deleted everything that I have worked so very hard to create. I spent over three years contributing to Wikipedia, improving the site, sacrificing grades in school to add to a revolutionary encyclopedia, but because of these low-life dip-shits whom I abhor in every molecule of my body, I have discovered that it was all for nothing. So I end my life, and I hope this will bring the wrath and resentment of the world down upon these deletionist jackasses.\n",
      "\n",
      "Sincerely,\n",
      "Vern Cork\n",
      "\n",
      "164th record is \"identity_hate\":\n",
      "LISTEN YOU MOTHERFUCKING FAGGOT! STOP FUCKING WITH ME!!! I WILL DELETE ANYTHING I WANT OFF OF PAGES I CREATED. IF YOU DONT FUCKING LIKE IT DEAL WITH IT. I TRIED BEING CORDIAL BUT YOU ARE SERIOUSLY PISSING ME OFF! BACK THE FUCK OFF!!!!\n",
      "\n"
     ]
    }
   ],
   "source": [
    "diff_comm = ['Non-toxic', 'toxic','severe_toxic', 'obscene', 'threat', 'insult', 'identity_hate']\n",
    "for t in diff_comm:\n",
    "    record_number = random.randint(1, train[t].sum())\n",
    "    print('{}th record is \"{}\":'.format(record_number,t))\n",
    "    print(train[train[t] == 1].iloc[record_number,1])\n",
    "    print('')"
   ]
  },
  {
   "cell_type": "markdown",
   "id": "5f599b5e",
   "metadata": {},
   "source": [
    "* An example of all types of comments in the dataset to show the difference"
   ]
  },
  {
   "cell_type": "code",
   "execution_count": 106,
   "id": "22b868fd",
   "metadata": {},
   "outputs": [
    {
     "data": {
      "text/plain": [
       "0                                                                                                                                                                                                                                                                                                                                                                             Explanation\\nWhy the edits made under my username Hardcore Metallica Fan were reverted? They weren't vandalisms, just closure on some GAs after I voted at New York Dolls FAC. And please don't remove the template from the talk page since I'm retired now.89.205.38.27\n",
       "1                                                                                                                                                                                                                                                                                                                                                                                                                                                                                                                                      D'aww! He matches this background colour I'm seemingly stuck with. Thanks.  (talk) 21:51, January 11, 2016 (UTC)\n",
       "2                                                                                                                                                                                                                                                                                                                                                                                                             Hey man, I'm really not trying to edit war. It's just that this guy is constantly removing relevant information and talking to me through edits instead of my talk page. He seems to care more about the formatting than the actual info.\n",
       "3    \"\\nMore\\nI can't make any real suggestions on improvement - I wondered if the section statistics should be later on, or a subsection of \"\"types of accidents\"\"  -I think the references may need tidying so that they are all in the exact same format ie date format etc. I can do that later on, if no-one else does first - if you have any preferences for formatting style on references or want to do it yourself please let me know.\\n\\nThere appears to be a backlog on articles for review so I guess there may be a delay until a reviewer turns up. It's listed in the relevant form eg Wikipedia:Good_article_nominations#Transport  \"\n",
       "4                                                                                                                                                                                                                                                                                                                                                                                                                                                                                                                                                                                   You, sir, are my hero. Any chance you remember what page that's on?\n",
       "5                                                                                                                                                                                                                                                                                                                                                                                                                                                                                                                                                                                   \"\\n\\nCongratulations from me as well, use the tools well.  · talk \"\n",
       "6                                                                                                                                                                                                                                                                                                                                                                                                                                                                                                                                                                                                          COCKSUCKER BEFORE YOU PISS AROUND ON MY WORK\n",
       "7                                                                                                                                                                                                                                                                                                                                                                                                                                                                                                                                   Your vandalism to the Matt Shirvington article has been reverted.  Please don't do it again, or you will be banned.\n",
       "8                                                                                                                                                              Sorry if the word 'nonsense' was offensive to you. Anyway, I'm not intending to write anything in the article(wow they would jump on me for vandalism), I'm merely requesting that it be more encyclopedic so one can use it for school as a reference. I have been to the selective breeding page but it's almost a stub. It points to 'animal breeding' which is a short messy article that gives you no info. There must be someone around with expertise in eugenics? 93.161.107.169\n",
       "9                                                                                                                                                                                                                                                                                                                                                                                                                                                                                                                                                                                alignment on this subject and which are contrary to those of DuLithgow\n",
       "Name: comment_text, dtype: object"
      ]
     },
     "execution_count": 106,
     "metadata": {},
     "output_type": "execute_result"
    }
   ],
   "source": [
    "train['comment_text'][0:10]"
   ]
  },
  {
   "cell_type": "markdown",
   "id": "faa2f4a2",
   "metadata": {},
   "source": [
    "## Data pre-processing"
   ]
  },
  {
   "cell_type": "code",
   "execution_count": 107,
   "id": "84dd8708",
   "metadata": {},
   "outputs": [],
   "source": [
    "#splitting by white space, removal of puntuation from strngs, non-alpha char, stopwords, convert to lowercase, lemmatize  \n",
    "\n",
    "def cleaner(text_record):\n",
    "    tokens = text_record.split()\n",
    "    table = str.maketrans({key: None for key in string.punctuation})\n",
    "    tokens = [token.translate(table) for token in tokens]\n",
    "    tokens = [token for token in tokens if token.isalpha()]\n",
    "    tokens = [token.lower() for token in tokens]\n",
    "    stop_words = set(stopwords.words('english'))\n",
    "    tokens = [token for token in tokens if token not in stop_words]\n",
    "    lem = WordNetLemmatizer()\n",
    "    tokens = [lem.lemmatize(token, \"v\") for token in tokens]\n",
    "    sentence = ' '.join(tokens)\n",
    "    return sentence"
   ]
  },
  {
   "cell_type": "markdown",
   "id": "dfccc9a8",
   "metadata": {},
   "source": [
    "*Splitting by White Space: Comments are divided into individual words or tokens based on white spaces.\n",
    "\n",
    "*Removal of Punctuation: Punctuation marks are removed from the strings to focus on the words themselves.\n",
    "\n",
    "*Handling Non-Alphabetic Characters: Non-alphabetic characters like numbers or special symbols are either *removed or included in the tokenization process.\n",
    "\n",
    "*Stopword Removal: Common words that lack significant meaning, such as \"and,\" \"the,\" or \"is,\" are filtered out.\n",
    "\n",
    "*Conversion to Lowercase: All words are converted to lowercase to ensure consistency.\n",
    "\n",
    "*Lemmatization: Words are transformed into their baseform to reduce inflectional variations."
   ]
  },
  {
   "cell_type": "code",
   "execution_count": 108,
   "id": "f64c9950",
   "metadata": {},
   "outputs": [],
   "source": [
    "train_cleaned = [cleaner(comment) for comment in train.comment_text.copy()]\n",
    "test_cleaned = [cleaner(comment) for comment in test.comment_text.copy()]"
   ]
  },
  {
   "cell_type": "code",
   "execution_count": 109,
   "id": "ad900cf9",
   "metadata": {
    "scrolled": true
   },
   "outputs": [
    {
     "data": {
      "text/plain": [
       "['explanation edit make username hardcore metallica fan revert werent vandalisms closure gas vote new york dolls fac please dont remove template talk page since im retire',\n",
       " 'daww match background colour im seemingly stick thank talk january utc',\n",
       " 'hey man im really try edit war guy constantly remove relevant information talk edit instead talk page seem care format actual info',\n",
       " 'cant make real suggestions improvement wonder section statistics later subsection type accidents think reference may need tidy exact format ie date format etc later noone else first preferences format style reference want please let know appear backlog article review guess may delay reviewer turn list relevant form eg wikipediagoodarticlenominationstransport',\n",
       " 'sir hero chance remember page thats',\n",
       " 'congratulations well use tool well talk',\n",
       " 'cocksucker piss around work',\n",
       " 'vandalism matt shirvington article revert please dont ban',\n",
       " 'sorry word nonsense offensive anyway im intend write anything articlewow would jump vandalism im merely request encyclopedic one use school reference selective breed page almost stub point animal breed short messy article give info must someone around expertise eugenics',\n",
       " 'alignment subject contrary dulithgow']"
      ]
     },
     "execution_count": 109,
     "metadata": {},
     "output_type": "execute_result"
    }
   ],
   "source": [
    "train_cleaned[0:10]"
   ]
  },
  {
   "cell_type": "code",
   "execution_count": 110,
   "id": "04dd81a4",
   "metadata": {},
   "outputs": [
    {
     "data": {
      "image/png": "[encoded data removed]",
      "text/plain": [
       "<Figure size 720x432 with 1 Axes>"
      ]
     },
     "metadata": {},
     "output_type": "display_data"
    },
    {
     "name": "stdout",
     "output_type": "stream",
     "text": [
      "No. with maximum count: 30\n",
      "Count: 16908\n"
     ]
    }
   ],
   "source": [
    "num_words = [len(comment) for comment in train.comment_text]\n",
    "\n",
    "plt.figure(figsize=(10, 6))\n",
    "sns.set_style(\"whitegrid\")\n",
    "hist, bins = np.histogram(num_words, bins=np.arange(0, 1000, 30))\n",
    "\n",
    "bar_color = 'gray'\n",
    "plt.bar(bins[:-1], hist, width=30, color=bar_color, edgecolor='black')\n",
    "\n",
    "plt.xlabel('Number of Words per Comment', fontsize=14)\n",
    "plt.ylabel('Number of Comments', fontsize=14)\n",
    "plt.title('Distribution of Number of Words per Comment', fontsize=16)\n",
    "\n",
    "plt.xticks(fontsize=12)\n",
    "plt.yticks(fontsize=12)\n",
    "\n",
    "sns.despine()\n",
    "plt.tight_layout(pad=2)\n",
    "plt.show()\n",
    "\n",
    "max_count = np.max(hist)\n",
    "max_num_words = bins[np.argmax(hist)]\n",
    "\n",
    "print(\"No. with maximum count:\", max_num_words)\n",
    "print(\"Count:\", max_count)"
   ]
  },
  {
   "cell_type": "markdown",
   "id": "0b1008bc",
   "metadata": {},
   "source": [
    "## Tokenization and Padding"
   ]
  },
  {
   "cell_type": "code",
   "execution_count": 111,
   "id": "c3673c88",
   "metadata": {},
   "outputs": [
    {
     "name": "stdout",
     "output_type": "stream",
     "text": [
      "Vocab_size = 204344.\n"
     ]
    }
   ],
   "source": [
    "max_features = 25000\n",
    "tokens = Tokenizer(num_words = max_features)\n",
    "tokens.fit_on_texts(train_cleaned)\n",
    "train_encoded = tokens.texts_to_sequences(train_cleaned)\n",
    "test_encoded = tokens.texts_to_sequences(test_cleaned)\n",
    "\n",
    "print('Vocab_size = {}.'.format(len(tokens.word_index)))"
   ]
  },
  {
   "cell_type": "code",
   "execution_count": 112,
   "id": "93da41dd",
   "metadata": {},
   "outputs": [],
   "source": [
    "max_len = 250\n",
    "X_train = pad_sequences(train_encoded, maxlen = max_len, padding = 'post')\n",
    "X_test = pad_sequences(test_encoded, maxlen = max_len, padding = 'post')\n",
    "\n",
    "attribute_names = ['toxic', 'severe_toxic', 'obscene', 'threat', 'insult', 'identity_hate']\n",
    "y_train = train[attribute_names].values"
   ]
  },
  {
   "cell_type": "code",
   "execution_count": 113,
   "id": "dd2407a7",
   "metadata": {},
   "outputs": [
    {
     "name": "stdout",
     "output_type": "stream",
     "text": [
      "X_train shape is (159571, 250)\n",
      "y_train shape is (159571, 6)\n"
     ]
    }
   ],
   "source": [
    "print('X_train shape is {}'.format(X_train.shape))\n",
    "print('y_train shape is {}'.format(y_train.shape))"
   ]
  },
  {
   "cell_type": "markdown",
   "id": "853b1b30",
   "metadata": {},
   "source": [
    "# Model Implementation"
   ]
  },
  {
   "cell_type": "markdown",
   "id": "ca676e6c",
   "metadata": {},
   "source": [
    "## Logistic Regression with Cross_val scores"
   ]
  },
  {
   "cell_type": "code",
   "execution_count": 114,
   "id": "0601da3c",
   "metadata": {},
   "outputs": [],
   "source": [
    "'''Imbalanced-learn currently supports binary, multiclass and binarized encoded multiclasss targets. \n",
    "Multilabel and multioutput targets are not supported.''' \n",
    "word_vectors = TfidfVectorizer(\n",
    "    sublinear_tf=True,\n",
    "    strip_accents='unicode',\n",
    "    analyzer='word',\n",
    "    token_pattern=r'\\w{1,}',\n",
    "    stop_words='english',\n",
    "    ngram_range=(1, 6),\n",
    "    max_features=25000\n",
    ")\n",
    "\n",
    "word_vectors.fit(train_cleaned)\n",
    "train_features = word_vectors.transform(train_cleaned)\n",
    "test_features = word_vectors.transform(test_cleaned)"
   ]
  },
  {
   "cell_type": "code",
   "execution_count": 115,
   "id": "f65bc9c7",
   "metadata": {},
   "outputs": [
    {
     "name": "stdout",
     "output_type": "stream",
     "text": [
      "Cross_Val score for \"toxic\" is 0.9621010138496343\n",
      "Cross_Val score for \"severe_toxic\" is 0.9824662599178403\n",
      "Cross_Val score for \"obscene\" is 0.9808299436287323\n",
      "Cross_Val score for \"threat\" is 0.9760240792518138\n",
      "Cross_Val score for \"insult\" is 0.9712170245789989\n",
      "Cross_Val score for \"identity_hate\" is 0.9688836814091671\n",
      "Total Cross_Val score is 0.9735870004393644\n"
     ]
    }
   ],
   "source": [
    "cross_scores = []\n",
    "for attri_name in attribute_names:\n",
    "    train_target = train[attri_name]\n",
    "    classifier = LogisticRegression(C=0.2, solver='sag')\n",
    "    cv_scores = cross_val_score(classifier, train_features, train_target, cv=3, scoring='roc_auc')\n",
    "    cv_score = np.mean(cv_scores)\n",
    "    cross_scores.append(cv_score)\n",
    "    print('Cross_Val score for \"{}\" is {}'.format(attri_name, cv_score))\n",
    "    classifier.fit(train_features, train_target)\n",
    "    \n",
    "print('Total Cross_Val score is {}'.format(np.mean(cross_scores)))"
   ]
  },
  {
   "cell_type": "markdown",
   "id": "00c71594",
   "metadata": {},
   "source": [
    "* Functions to: \n",
    "\n",
    "calculate the AUC-ROC metric.\n",
    "\n",
    "compile, train, and evaluate the model."
   ]
  },
  {
   "cell_type": "code",
   "execution_count": 116,
   "id": "d4a3c465",
   "metadata": {},
   "outputs": [],
   "source": [
    "class roc_auc(Callback):\n",
    "    def __init__(self, training_data, validation_data):\n",
    "        self.x = training_data[0]\n",
    "        self.y = training_data[1]\n",
    "        self.x_val = validation_data[0]\n",
    "        self.y_val = validation_data[1]\n",
    " \n",
    "    def on_epoch_end(self, epoch, logs={}):\n",
    "        y_pred = self.model.predict(self.x)\n",
    "        roc = roc_auc_score(self.y, y_pred)\n",
    "        \n",
    "        y_pred_val = self.model.predict(self.x_val)\n",
    "        roc_val = roc_auc_score(self.y_val, y_pred_val)\n",
    "        \n",
    "        print('\\rroc-auc: %s - roc-auc_val: %s' % (str(round(roc, 4)), str(round(roc_val, 4))), end=100 * ' ' + '\\n')"
   ]
  },
  {
   "cell_type": "code",
   "execution_count": 117,
   "id": "9c074adc",
   "metadata": {},
   "outputs": [],
   "source": [
    "def train_model(model, X_train, y_train, X_val, y_val, batch_size, epochs, filepath):\n",
    "    # callbacks\n",
    "    checkpointer = ModelCheckpoint(filepath=filepath, verbose=1, save_best_only=True)\n",
    "    \n",
    "    roc = roc_auc(training_data=(X_train, y_train), validation_data=(X_val, y_val))\n",
    "    \n",
    "    # fit the model\n",
    "    history = model.fit(X_train, y_train,\n",
    "                        validation_data=(X_val, y_val),\n",
    "                        batch_size=batch_size,\n",
    "                        epochs=epochs,\n",
    "                        callbacks=[roc, checkpointer])\n",
    "    \n",
    "    # load the model with the best validation loss\n",
    "    model.load_weights(filepath)\n",
    "    \n",
    "    return model, history"
   ]
  },
  {
   "cell_type": "markdown",
   "id": "afe46386",
   "metadata": {},
   "source": [
    "## Baseline Model: LSTM"
   ]
  },
  {
   "cell_type": "code",
   "execution_count": 118,
   "id": "a23d8123",
   "metadata": {},
   "outputs": [
    {
     "name": "stderr",
     "output_type": "stream",
     "text": [
      "2023-06-14 22:35:06.577742: I tensorflow/core/common_runtime/executor.cc:1197] [/device:CPU:0] (DEBUG INFO) Executor start aborting (this does not indicate an error and you can ignore this message): INVALID_ARGUMENT: You must feed a value for placeholder tensor 'gradients/split_2_grad/concat/split_2/split_dim' with dtype int32\n",
      "\t [[{{node gradients/split_2_grad/concat/split_2/split_dim}}]]\n",
      "2023-06-14 22:35:06.599083: I tensorflow/core/common_runtime/executor.cc:1197] [/device:CPU:0] (DEBUG INFO) Executor start aborting (this does not indicate an error and you can ignore this message): INVALID_ARGUMENT: You must feed a value for placeholder tensor 'gradients/split_grad/concat/split/split_dim' with dtype int32\n",
      "\t [[{{node gradients/split_grad/concat/split/split_dim}}]]\n",
      "2023-06-14 22:35:06.610039: I tensorflow/core/common_runtime/executor.cc:1197] [/device:CPU:0] (DEBUG INFO) Executor start aborting (this does not indicate an error and you can ignore this message): INVALID_ARGUMENT: You must feed a value for placeholder tensor 'gradients/split_1_grad/concat/split_1/split_dim' with dtype int32\n",
      "\t [[{{node gradients/split_1_grad/concat/split_1/split_dim}}]]\n"
     ]
    },
    {
     "name": "stdout",
     "output_type": "stream",
     "text": [
      "Model: \"sequential_6\"\n",
      "_________________________________________________________________\n",
      " Layer (type)                Output Shape              Param #   \n",
      "=================================================================\n",
      " embedding_6 (Embedding)     (None, 250, 100)          2500000   \n",
      "                                                                 \n",
      " lstm_1 (LSTM)               (None, 64)                42240     \n",
      "                                                                 \n",
      " dropout_7 (Dropout)         (None, 64)                0         \n",
      "                                                                 \n",
      " dense_8 (Dense)             (None, 6)                 390       \n",
      "                                                                 \n",
      "=================================================================\n",
      "Total params: 2,542,630\n",
      "Trainable params: 2,542,630\n",
      "Non-trainable params: 0\n",
      "_________________________________________________________________\n"
     ]
    }
   ],
   "source": [
    "lstm = Sequential()\n",
    "lstm.add(Embedding(max_features, 100, input_length=max_len))\n",
    "lstm.add(LSTM(64))\n",
    "lstm.add(Dropout(0.25))\n",
    "lstm.add(Dense(6, activation=\"sigmoid\"))\n",
    "\n",
    "lstm.compile(loss=\"categorical_crossentropy\", optimizer=\"rmsprop\", metrics=[\"accuracy\"])\n",
    "\n",
    "lstm.summary()"
   ]
  },
  {
   "cell_type": "code",
   "execution_count": 119,
   "id": "87e50b5b",
   "metadata": {},
   "outputs": [
    {
     "name": "stdout",
     "output_type": "stream",
     "text": [
      "Epoch 1/3\n"
     ]
    },
    {
     "name": "stderr",
     "output_type": "stream",
     "text": [
      "2023-06-14 22:35:08.366709: I tensorflow/core/common_runtime/executor.cc:1197] [/device:CPU:0] (DEBUG INFO) Executor start aborting (this does not indicate an error and you can ignore this message): INVALID_ARGUMENT: You must feed a value for placeholder tensor 'gradients/split_2_grad/concat/split_2/split_dim' with dtype int32\n",
      "\t [[{{node gradients/split_2_grad/concat/split_2/split_dim}}]]\n",
      "2023-06-14 22:35:08.373846: I tensorflow/core/common_runtime/executor.cc:1197] [/device:CPU:0] (DEBUG INFO) Executor start aborting (this does not indicate an error and you can ignore this message): INVALID_ARGUMENT: You must feed a value for placeholder tensor 'gradients/split_grad/concat/split/split_dim' with dtype int32\n",
      "\t [[{{node gradients/split_grad/concat/split/split_dim}}]]\n",
      "2023-06-14 22:35:08.378438: I tensorflow/core/common_runtime/executor.cc:1197] [/device:CPU:0] (DEBUG INFO) Executor start aborting (this does not indicate an error and you can ignore this message): INVALID_ARGUMENT: You must feed a value for placeholder tensor 'gradients/split_1_grad/concat/split_1/split_dim' with dtype int32\n",
      "\t [[{{node gradients/split_1_grad/concat/split_1/split_dim}}]]\n",
      "2023-06-14 22:35:09.708772: I tensorflow/core/common_runtime/executor.cc:1197] [/device:CPU:0] (DEBUG INFO) Executor start aborting (this does not indicate an error and you can ignore this message): INVALID_ARGUMENT: You must feed a value for placeholder tensor 'gradients/split_2_grad/concat/split_2/split_dim' with dtype int32\n",
      "\t [[{{node gradients/split_2_grad/concat/split_2/split_dim}}]]\n",
      "2023-06-14 22:35:09.710692: I tensorflow/core/common_runtime/executor.cc:1197] [/device:CPU:0] (DEBUG INFO) Executor start aborting (this does not indicate an error and you can ignore this message): INVALID_ARGUMENT: You must feed a value for placeholder tensor 'gradients/split_grad/concat/split/split_dim' with dtype int32\n",
      "\t [[{{node gradients/split_grad/concat/split/split_dim}}]]\n",
      "2023-06-14 22:35:09.713695: I tensorflow/core/common_runtime/executor.cc:1197] [/device:CPU:0] (DEBUG INFO) Executor start aborting (this does not indicate an error and you can ignore this message): INVALID_ARGUMENT: You must feed a value for placeholder tensor 'gradients/split_1_grad/concat/split_1/split_dim' with dtype int32\n",
      "\t [[{{node gradients/split_1_grad/concat/split_1/split_dim}}]]\n"
     ]
    },
    {
     "name": "stdout",
     "output_type": "stream",
     "text": [
      "281/281 [==============================] - ETA: 0s - loss: 0.4015 - accuracy: 0.2563"
     ]
    },
    {
     "name": "stderr",
     "output_type": "stream",
     "text": [
      "2023-06-14 22:42:23.388009: I tensorflow/core/common_runtime/executor.cc:1197] [/device:CPU:0] (DEBUG INFO) Executor start aborting (this does not indicate an error and you can ignore this message): INVALID_ARGUMENT: You must feed a value for placeholder tensor 'gradients/split_2_grad/concat/split_2/split_dim' with dtype int32\n",
      "\t [[{{node gradients/split_2_grad/concat/split_2/split_dim}}]]\n",
      "2023-06-14 22:42:23.391402: I tensorflow/core/common_runtime/executor.cc:1197] [/device:CPU:0] (DEBUG INFO) Executor start aborting (this does not indicate an error and you can ignore this message): INVALID_ARGUMENT: You must feed a value for placeholder tensor 'gradients/split_grad/concat/split/split_dim' with dtype int32\n",
      "\t [[{{node gradients/split_grad/concat/split/split_dim}}]]\n",
      "2023-06-14 22:42:23.394991: I tensorflow/core/common_runtime/executor.cc:1197] [/device:CPU:0] (DEBUG INFO) Executor start aborting (this does not indicate an error and you can ignore this message): INVALID_ARGUMENT: You must feed a value for placeholder tensor 'gradients/split_1_grad/concat/split_1/split_dim' with dtype int32\n",
      "\t [[{{node gradients/split_1_grad/concat/split_1/split_dim}}]]\n",
      "2023-06-14 22:42:36.579081: I tensorflow/core/common_runtime/executor.cc:1197] [/device:CPU:0] (DEBUG INFO) Executor start aborting (this does not indicate an error and you can ignore this message): INVALID_ARGUMENT: You must feed a value for placeholder tensor 'gradients/split_2_grad/concat/split_2/split_dim' with dtype int32\n",
      "\t [[{{node gradients/split_2_grad/concat/split_2/split_dim}}]]\n",
      "2023-06-14 22:42:36.583789: I tensorflow/core/common_runtime/executor.cc:1197] [/device:CPU:0] (DEBUG INFO) Executor start aborting (this does not indicate an error and you can ignore this message): INVALID_ARGUMENT: You must feed a value for placeholder tensor 'gradients/split_grad/concat/split/split_dim' with dtype int32\n",
      "\t [[{{node gradients/split_grad/concat/split/split_dim}}]]\n",
      "2023-06-14 22:42:36.588467: I tensorflow/core/common_runtime/executor.cc:1197] [/device:CPU:0] (DEBUG INFO) Executor start aborting (this does not indicate an error and you can ignore this message): INVALID_ARGUMENT: You must feed a value for placeholder tensor 'gradients/split_1_grad/concat/split_1/split_dim' with dtype int32\n",
      "\t [[{{node gradients/split_1_grad/concat/split_1/split_dim}}]]\n"
     ]
    },
    {
     "name": "stdout",
     "output_type": "stream",
     "text": [
      "4488/4488 [==============================] - 185s 41ms/step\n",
      "499/499 [==============================] - 16s 32ms/step\n",
      "roc-auc: 0.502 - roc-auc_val: 0.5123                                                                                                    \n",
      "\n",
      "Epoch 1: val_loss improved from inf to 0.36188, saving model to saved_models/weights.best.from_scatch_lstm.hdf5\n",
      "281/281 [==============================] - 652s 2s/step - loss: 0.4015 - accuracy: 0.2563 - val_loss: 0.3619 - val_accuracy: 0.0018\n",
      "Epoch 2/3\n",
      "4488/4488 [==============================] - 149s 33ms/step\n",
      "499/499 [==============================] - 18s 36ms/step\n",
      "roc-auc: 0.5045 - roc-auc_val: 0.5144                                                                                                    \n",
      "\n",
      "Epoch 2: val_loss improved from 0.36188 to 0.35654, saving model to saved_models/weights.best.from_scatch_lstm.hdf5\n",
      "281/281 [==============================] - 589s 2s/step - loss: 0.3978 - accuracy: 0.2863 - val_loss: 0.3565 - val_accuracy: 0.0018\n",
      "Epoch 3/3\n",
      "4488/4488 [==============================] - 242s 54ms/step\n",
      "499/499 [==============================] - 28s 56ms/step\n",
      "roc-auc: 0.5043 - roc-auc_val: 0.5141                                                                                                    \n",
      "\n",
      "Epoch 3: val_loss improved from 0.35654 to 0.35165, saving model to saved_models/weights.best.from_scatch_lstm.hdf5\n",
      "281/281 [==============================] - 706s 3s/step - loss: 0.3939 - accuracy: 0.3042 - val_loss: 0.3517 - val_accuracy: 0.0018\n"
     ]
    }
   ],
   "source": [
    "X_train, X_val, y_train, y_val = train_test_split(X_train, y_train, train_size=0.9, random_state=30)\n",
    "\n",
    "lstm_trained, history_lstm = train_model(lstm,\n",
    "                                         X_train, y_train,\n",
    "                                         X_val, y_val,\n",
    "                                         batch_size=512,\n",
    "                                         epochs=3,\n",
    "                                         filepath='saved_models/weights.best.from_scatch_lstm.hdf5')"
   ]
  },
  {
   "cell_type": "code",
   "execution_count": 120,
   "id": "5a9f5e92",
   "metadata": {},
   "outputs": [
    {
     "name": "stderr",
     "output_type": "stream",
     "text": [
      "2023-06-14 23:07:44.628496: I tensorflow/core/common_runtime/executor.cc:1197] [/device:CPU:0] (DEBUG INFO) Executor start aborting (this does not indicate an error and you can ignore this message): INVALID_ARGUMENT: You must feed a value for placeholder tensor 'gradients/split_2_grad/concat/split_2/split_dim' with dtype int32\n",
      "\t [[{{node gradients/split_2_grad/concat/split_2/split_dim}}]]\n",
      "2023-06-14 23:07:44.629867: I tensorflow/core/common_runtime/executor.cc:1197] [/device:CPU:0] (DEBUG INFO) Executor start aborting (this does not indicate an error and you can ignore this message): INVALID_ARGUMENT: You must feed a value for placeholder tensor 'gradients/split_grad/concat/split/split_dim' with dtype int32\n",
      "\t [[{{node gradients/split_grad/concat/split/split_dim}}]]\n",
      "2023-06-14 23:07:44.631537: I tensorflow/core/common_runtime/executor.cc:1197] [/device:CPU:0] (DEBUG INFO) Executor start aborting (this does not indicate an error and you can ignore this message): INVALID_ARGUMENT: You must feed a value for placeholder tensor 'gradients/split_1_grad/concat/split_1/split_dim' with dtype int32\n",
      "\t [[{{node gradients/split_1_grad/concat/split_1/split_dim}}]]\n"
     ]
    }
   ],
   "source": [
    "# save the model\n",
    "with open('lstm_model.pkl', 'wb') as f:\n",
    "    pickle.dump(lstm, f)\n",
    "    \n",
    "with open('lstm_model.pkl', 'rb') as f:\n",
    "    lstm_model = pickle.load(f)    "
   ]
  },
  {
   "cell_type": "code",
   "execution_count": 121,
   "id": "913d3bff",
   "metadata": {},
   "outputs": [
    {
     "name": "stderr",
     "output_type": "stream",
     "text": [
      "2023-06-14 23:07:52.753718: I tensorflow/core/common_runtime/executor.cc:1197] [/device:CPU:0] (DEBUG INFO) Executor start aborting (this does not indicate an error and you can ignore this message): INVALID_ARGUMENT: You must feed a value for placeholder tensor 'gradients/split_2_grad/concat/split_2/split_dim' with dtype int32\n",
      "\t [[{{node gradients/split_2_grad/concat/split_2/split_dim}}]]\n",
      "2023-06-14 23:07:52.760223: I tensorflow/core/common_runtime/executor.cc:1197] [/device:CPU:0] (DEBUG INFO) Executor start aborting (this does not indicate an error and you can ignore this message): INVALID_ARGUMENT: You must feed a value for placeholder tensor 'gradients/split_grad/concat/split/split_dim' with dtype int32\n",
      "\t [[{{node gradients/split_grad/concat/split/split_dim}}]]\n",
      "2023-06-14 23:07:52.764844: I tensorflow/core/common_runtime/executor.cc:1197] [/device:CPU:0] (DEBUG INFO) Executor start aborting (this does not indicate an error and you can ignore this message): INVALID_ARGUMENT: You must feed a value for placeholder tensor 'gradients/split_1_grad/concat/split_1/split_dim' with dtype int32\n",
      "\t [[{{node gradients/split_1_grad/concat/split_1/split_dim}}]]\n"
     ]
    },
    {
     "name": "stdout",
     "output_type": "stream",
     "text": [
      "499/499 [==============================] - 21s 41ms/step\n",
      "LSTM_AUC: 51.41%\n"
     ]
    }
   ],
   "source": [
    "y_pred_val = lstm_model.predict(X_val)\n",
    "\n",
    "auc = roc_auc_score(y_val, y_pred_val)\n",
    "print(\"LSTM_AUC: %.2f%%\" % (auc * 100))"
   ]
  },
  {
   "cell_type": "code",
   "execution_count": 122,
   "id": "9cafca30",
   "metadata": {},
   "outputs": [
    {
     "data": {
      "image/png": "[encoded data removed]",
      "text/plain": [
       "<Figure size 432x288 with 1 Axes>"
      ]
     },
     "metadata": {},
     "output_type": "display_data"
    },
    {
     "name": "stdout",
     "output_type": "stream",
     "text": [
      "toxic AUC: 50.34%\n",
      "severe_toxic AUC: 53.95%\n",
      "obscene AUC: 50.42%\n",
      "threat AUC: 52.90%\n",
      "insult AUC: 50.09%\n",
      "identity_hate AUC: 50.74%\n"
     ]
    }
   ],
   "source": [
    "from sklearn.metrics import roc_curve, auc\n",
    "\n",
    "fpr = dict()\n",
    "tpr = dict()\n",
    "roc_auc = dict()\n",
    "\n",
    "for i in range(len(attribute_names)):\n",
    "    fpr[i], tpr[i], _ = roc_curve(y_val[:, i], y_pred_val[:, i])\n",
    "    roc_auc[i] = auc(fpr[i], tpr[i])\n",
    "\n",
    "for i in range(len(attribute_names)):\n",
    "    plt.plot(fpr[i], tpr[i], label='ROC curve (area = %0.2f)' % roc_auc[i])\n",
    "\n",
    "plt.plot([0, 1], [0, 1], linestyle='--', color='r', label='Random Classifier')\n",
    "plt.xlabel('False Positive Rate')\n",
    "plt.ylabel('True Positive Rate')\n",
    "plt.title('ROC Curve - LSTM')\n",
    "plt.legend()\n",
    "plt.show()\n",
    "\n",
    "for i in range(len(attribute_names)):\n",
    "    print(attribute_names[i] + ' AUC: %.2f%%' % (roc_auc[i] * 100))"
   ]
  },
  {
   "cell_type": "markdown",
   "id": "a3461d8b",
   "metadata": {},
   "source": [
    "## Model 1: SimpleRNN with an Embedding layer and the RNN layer."
   ]
  },
  {
   "cell_type": "code",
   "execution_count": 125,
   "id": "4cff08d2",
   "metadata": {},
   "outputs": [],
   "source": [
    "class roc_auc(Callback):\n",
    "    def __init__(self, training_data, validation_data):\n",
    "        self.x = training_data[0]\n",
    "        self.y = training_data[1]\n",
    "        self.x_val = validation_data[0]\n",
    "        self.y_val = validation_data[1]\n",
    " \n",
    "    def on_epoch_end(self, epoch, logs={}):\n",
    "        y_pred = self.model.predict(self.x)\n",
    "        roc = roc_auc_score(self.y, y_pred)\n",
    "        \n",
    "        y_pred_val = self.model.predict(self.x_val)\n",
    "        roc_val = roc_auc_score(self.y_val, y_pred_val)\n",
    "        \n",
    "        print('\\rroc-auc: %s - roc-auc_val: %s' % (str(round(roc, 4)), str(round(roc_val, 4))), end=100 * ' ' + '\\n')"
   ]
  },
  {
   "cell_type": "code",
   "execution_count": 126,
   "id": "59ce1d3c",
   "metadata": {},
   "outputs": [],
   "source": [
    "def train_model(model, X_train, y_train, X_val, y_val, batch_size, epochs, filepath):\n",
    "    # callbacks\n",
    "    checkpointer = ModelCheckpoint(filepath=filepath, verbose=1, save_best_only=True)\n",
    "    \n",
    "    roc = roc_auc(training_data=(X_train, y_train), validation_data=(X_val, y_val))\n",
    "    \n",
    "    # fit the model\n",
    "    history = model.fit(X_train, y_train,\n",
    "                        validation_data=(X_val, y_val),\n",
    "                        batch_size=batch_size,\n",
    "                        epochs=epochs,\n",
    "                        callbacks=[roc, checkpointer])\n",
    "    \n",
    "    # load the model with the best validation loss\n",
    "    model.load_weights(filepath)\n",
    "    \n",
    "    return model, history"
   ]
  },
  {
   "cell_type": "code",
   "execution_count": 127,
   "id": "f861b81f",
   "metadata": {},
   "outputs": [
    {
     "name": "stdout",
     "output_type": "stream",
     "text": [
      "Model: \"sequential_8\"\n",
      "_________________________________________________________________\n",
      " Layer (type)                Output Shape              Param #   \n",
      "=================================================================\n",
      " embedding_8 (Embedding)     (None, 250, 100)          2500000   \n",
      "                                                                 \n",
      " simple_rnn_2 (SimpleRNN)    (None, 100)               20100     \n",
      "                                                                 \n",
      " dense_10 (Dense)            (None, 6)                 606       \n",
      "                                                                 \n",
      "=================================================================\n",
      "Total params: 2,520,706\n",
      "Trainable params: 2,520,706\n",
      "Non-trainable params: 0\n",
      "_________________________________________________________________\n"
     ]
    }
   ],
   "source": [
    "rnn = Sequential()\n",
    "rnn.add(Embedding(max_features, 100, input_length=max_len))\n",
    "rnn.add(SimpleRNN(100))\n",
    "rnn.add(Dense(6, activation='sigmoid'))\n",
    "rnn.compile(loss='binary_crossentropy', optimizer='adam', metrics=['accuracy'])\n",
    "rnn.summary()"
   ]
  },
  {
   "cell_type": "code",
   "execution_count": 128,
   "id": "3b2fcdb4",
   "metadata": {},
   "outputs": [
    {
     "name": "stdout",
     "output_type": "stream",
     "text": [
      "Epoch 1/5\n",
      "3636/3636 [==============================] - 97s 27ms/step\n",
      "404/404 [==============================] - 11s 27ms/step\n",
      "roc-auc: 0.5048 - roc-auc_val: 0.5053                                                                                                    \n",
      "\n",
      "Epoch 1: val_loss improved from inf to 0.14226, saving model to saved_models/weights.best.from_scratch_rnn.hdf5\n",
      "228/228 [==============================] - 318s 1s/step - loss: 0.1564 - accuracy: 0.9043 - val_loss: 0.1423 - val_accuracy: 0.9937\n",
      "Epoch 2/5\n",
      "3636/3636 [==============================] - 84s 23ms/step\n",
      "404/404 [==============================] - 10s 23ms/step\n",
      "roc-auc: 0.5315 - roc-auc_val: 0.5225                                                                                                    \n",
      "\n",
      "Epoch 2: val_loss did not improve from 0.14226\n",
      "228/228 [==============================] - 306s 1s/step - loss: 0.1411 - accuracy: 0.9930 - val_loss: 0.1433 - val_accuracy: 0.9915\n",
      "Epoch 3/5\n",
      "3636/3636 [==============================] - 109s 30ms/step\n",
      "404/404 [==============================] - 14s 35ms/step\n",
      "roc-auc: 0.5048 - roc-auc_val: 0.5065                                                                                                    \n",
      "\n",
      "Epoch 3: val_loss did not improve from 0.14226\n",
      "228/228 [==============================] - 328s 1s/step - loss: 0.1406 - accuracy: 0.9922 - val_loss: 0.1426 - val_accuracy: 0.9937\n",
      "Epoch 4/5\n",
      "3636/3636 [==============================] - 103s 28ms/step\n",
      "404/404 [==============================] - 10s 25ms/step\n",
      "roc-auc: 0.5128 - roc-auc_val: 0.5137                                                                                                    \n",
      "\n",
      "Epoch 4: val_loss did not improve from 0.14226\n",
      "228/228 [==============================] - 345s 2s/step - loss: 0.1421 - accuracy: 0.9801 - val_loss: 0.1447 - val_accuracy: 0.9923\n",
      "Epoch 5/5\n",
      "3636/3636 [==============================] - 91s 25ms/step\n",
      "404/404 [==============================] - 10s 25ms/step\n",
      "roc-auc: 0.5024 - roc-auc_val: 0.507                                                                                                    \n",
      "\n",
      "Epoch 5: val_loss did not improve from 0.14226\n",
      "228/228 [==============================] - 313s 1s/step - loss: 0.1411 - accuracy: 0.9932 - val_loss: 0.1425 - val_accuracy: 0.9935\n"
     ]
    }
   ],
   "source": [
    "X_train, X_val, y_train, y_val = train_test_split(X_train, y_train, train_size=0.9, random_state=30)\n",
    "rnn_trained, history_rnn = train_model(rnn,\n",
    "                                X_train,y_train,\n",
    "                                X_val,y_val,\n",
    "                                batch_size=512, \n",
    "                                epochs=5,\n",
    "                                filepath='saved_models/weights.best.from_scratch_rnn.hdf5')"
   ]
  },
  {
   "cell_type": "markdown",
   "id": "1d388e8b",
   "metadata": {},
   "source": [
    "* Saving the model using pickle"
   ]
  },
  {
   "cell_type": "code",
   "execution_count": 129,
   "id": "aaebcada",
   "metadata": {},
   "outputs": [],
   "source": [
    "# Save the model\n",
    "\n",
    "with open('rnn_model.pkl', 'wb') as f:\n",
    "    pickle.dump(rnn, f)\n",
    "    \n",
    "with open('rnn_model.pkl', 'rb') as f:\n",
    "    rnn_model = pickle.load(f)    "
   ]
  },
  {
   "cell_type": "code",
   "execution_count": 130,
   "id": "314b67d7",
   "metadata": {},
   "outputs": [
    {
     "name": "stdout",
     "output_type": "stream",
     "text": [
      "404/404 [==============================] - 9s 22ms/step\n",
      "RNN_AUC: 50.53%\n"
     ]
    }
   ],
   "source": [
    "y_pred_val = rnn_model.predict(X_val)\n",
    "\n",
    "auc = roc_auc_score(y_val, y_pred_val)\n",
    "print(\"RNN_AUC: %.2f%%\" % (auc * 100))"
   ]
  },
  {
   "cell_type": "code",
   "execution_count": 131,
   "id": "614f8bc7",
   "metadata": {
    "scrolled": false
   },
   "outputs": [
    {
     "data": {
      "image/png": "[encoded data removed]",
      "text/plain": [
       "<Figure size 432x288 with 1 Axes>"
      ]
     },
     "metadata": {},
     "output_type": "display_data"
    },
    {
     "name": "stdout",
     "output_type": "stream",
     "text": [
      "toxic AUC: 50.16%\n",
      "severe_toxic AUC: 51.28%\n",
      "obscene AUC: 49.39%\n",
      "threat AUC: 53.07%\n",
      "insult AUC: 49.64%\n",
      "identity_hate AUC: 49.64%\n"
     ]
    }
   ],
   "source": [
    "from sklearn.metrics import roc_curve, auc\n",
    "fpr = dict()\n",
    "tpr = dict()\n",
    "roc_auc = dict()\n",
    "\n",
    "for i in range(len(attribute_names)):\n",
    "    fpr[i], tpr[i], _ = roc_curve(y_val[:, i], y_pred_val[:, i])\n",
    "    roc_auc[i] = auc(fpr[i], tpr[i])\n",
    "\n",
    "for i in range(len(attribute_names)):\n",
    "    plt.plot(fpr[i], tpr[i], label='ROC curve (area = %0.2f)' % roc_auc[i])\n",
    "\n",
    "plt.plot([0, 1], [0, 1], linestyle='--', color='r', label='Random Classifier')\n",
    "plt.xlabel('False Positive Rate')\n",
    "plt.ylabel('True Positive Rate')\n",
    "plt.title('ROC Curve - SimpleRNN')\n",
    "plt.legend()\n",
    "plt.show()\n",
    "\n",
    "for i in range(len(attribute_names)):\n",
    "    print(attribute_names[i] + ' AUC: %.2f%%' % (roc_auc[i] * 100))"
   ]
  },
  {
   "cell_type": "markdown",
   "id": "7da6bcfb",
   "metadata": {},
   "source": [
    "## Model 2 : CNN - with 2 convolutional layers, 2 dense layers, and 3 dropout layers"
   ]
  },
  {
   "cell_type": "code",
   "execution_count": null,
   "id": "704b27e5",
   "metadata": {},
   "outputs": [],
   "source": [
    "class roc_auc(Callback):\n",
    "    def __init__(self, training_data, validation_data):\n",
    "        self.x = training_data[0]\n",
    "        self.y = training_data[1]\n",
    "        self.x_val = validation_data[0]\n",
    "        self.y_val = validation_data[1]\n",
    " \n",
    "    def on_epoch_end(self, epoch, logs={}):\n",
    "        y_pred = self.model.predict(self.x)\n",
    "        roc = roc_auc_score(self.y, y_pred)\n",
    "        \n",
    "        y_pred_val = self.model.predict(self.x_val)\n",
    "        roc_val = roc_auc_score(self.y_val, y_pred_val)\n",
    "        \n",
    "        print('\\rroc-auc: %s - roc-auc_val: %s' % (str(round(roc, 4)), str(round(roc_val, 4))), end=100 * ' ' + '\\n')"
   ]
  },
  {
   "cell_type": "code",
   "execution_count": null,
   "id": "17fbc992",
   "metadata": {},
   "outputs": [],
   "source": [
    "def train_model(model, X_train, y_train, X_val, y_val, batch_size, epochs, filepath):\n",
    "    # callbacks\n",
    "    checkpointer = ModelCheckpoint(filepath=filepath, verbose=1, save_best_only=True)\n",
    "    \n",
    "    roc = roc_auc(training_data=(X_train, y_train), validation_data=(X_val, y_val))\n",
    "    \n",
    "    # fit the model\n",
    "    history = model.fit(X_train, y_train,\n",
    "                        validation_data=(X_val, y_val),\n",
    "                        batch_size=batch_size,\n",
    "                        epochs=epochs,\n",
    "                        callbacks=[roc, checkpointer])\n",
    "    \n",
    "    # load the model with the best validation loss\n",
    "    model.load_weights(filepath)\n",
    "    \n",
    "    return model, history"
   ]
  },
  {
   "cell_type": "code",
   "execution_count": 57,
   "id": "73ce306d",
   "metadata": {},
   "outputs": [
    {
     "name": "stdout",
     "output_type": "stream",
     "text": [
      "Model: \"sequential_3\"\n",
      "_________________________________________________________________\n",
      " Layer (type)                Output Shape              Param #   \n",
      "=================================================================\n",
      " embedding_3 (Embedding)     (None, 250, 200)          5000000   \n",
      "                                                                 \n",
      " conv1d_2 (Conv1D)           (None, 248, 32)           19232     \n",
      "                                                                 \n",
      " max_pooling1d_2 (MaxPooling  (None, 124, 32)          0         \n",
      " 1D)                                                             \n",
      "                                                                 \n",
      " dropout_4 (Dropout)         (None, 124, 32)           0         \n",
      "                                                                 \n",
      " conv1d_3 (Conv1D)           (None, 122, 64)           6208      \n",
      "                                                                 \n",
      " max_pooling1d_3 (MaxPooling  (None, 61, 64)           0         \n",
      " 1D)                                                             \n",
      "                                                                 \n",
      " dropout_5 (Dropout)         (None, 61, 64)            0         \n",
      "                                                                 \n",
      " flatten_1 (Flatten)         (None, 3904)              0         \n",
      "                                                                 \n",
      " dense_4 (Dense)             (None, 500)               1952500   \n",
      "                                                                 \n",
      " dropout_6 (Dropout)         (None, 500)               0         \n",
      "                                                                 \n",
      " dense_5 (Dense)             (None, 6)                 3006      \n",
      "                                                                 \n",
      "=================================================================\n",
      "Total params: 6,980,946\n",
      "Trainable params: 6,980,946\n",
      "Non-trainable params: 0\n",
      "_________________________________________________________________\n"
     ]
    }
   ],
   "source": [
    "cnn = Sequential()\n",
    "cnn.add(Embedding(max_features, 200, input_length=max_len))  \n",
    "cnn.add(Conv1D(filters=32, kernel_size=3, activation='relu'))  \n",
    "cnn.add(MaxPooling1D(pool_size=2))\n",
    "cnn.add(Dropout(0.5))\n",
    "cnn.add(Conv1D(filters=64, kernel_size=3, activation='relu'))  \n",
    "cnn.add(MaxPooling1D(pool_size=2))\n",
    "cnn.add(Dropout(0.5))\n",
    "cnn.add(Flatten())\n",
    "cnn.add(Dense(500, activation=\"relu\")) \n",
    "cnn.add(Dropout(0.5))\n",
    "cnn.add(Dense(6, activation=\"sigmoid\"))\n",
    "cnn.compile(optimizer='adam', loss='binary_crossentropy', metrics=['accuracy'])\n",
    "cnn.summary()"
   ]
  },
  {
   "cell_type": "code",
   "execution_count": 58,
   "id": "bf243eaf",
   "metadata": {},
   "outputs": [
    {
     "name": "stdout",
     "output_type": "stream",
     "text": [
      "Epoch 1/3\n",
      "4488/4488 [==============================] - 92s 21ms/step\n",
      "499/499 [==============================] - 10s 20ms/step\n",
      "roc-auc: 0.9624 - roc-auc_val: 0.9533                                                                                                    \n",
      "\n",
      "Epoch 1: val_loss improved from inf to 0.06937, saving model to saved_models/weights.best.from_scatch_cnn.hdf5\n",
      "281/281 [==============================] - 352s 1s/step - loss: 0.1100 - accuracy: 0.8158 - val_loss: 0.0694 - val_accuracy: 0.9946\n",
      "Epoch 2/3\n",
      "4488/4488 [==============================] - 92s 20ms/step\n",
      "499/499 [==============================] - 10s 21ms/step\n",
      "roc-auc: 0.9792 - roc-auc_val: 0.9683                                                                                                    \n",
      "\n",
      "Epoch 2: val_loss improved from 0.06937 to 0.06175, saving model to saved_models/weights.best.from_scatch_cnn.hdf5\n",
      "281/281 [==============================] - 316s 1s/step - loss: 0.0584 - accuracy: 0.9751 - val_loss: 0.0618 - val_accuracy: 0.9946\n",
      "Epoch 3/3\n",
      "4488/4488 [==============================] - 78s 17ms/step\n",
      "499/499 [==============================] - 9s 19ms/step\n",
      "roc-auc: 0.9824 - roc-auc_val: 0.968                                                                                                    \n",
      "\n",
      "Epoch 3: val_loss improved from 0.06175 to 0.05640, saving model to saved_models/weights.best.from_scatch_cnn.hdf5\n",
      "281/281 [==============================] - 272s 968ms/step - loss: 0.0507 - accuracy: 0.9873 - val_loss: 0.0564 - val_accuracy: 0.9946\n"
     ]
    }
   ],
   "source": [
    "X_train, X_val, y_train, y_val = train_test_split(X_train, y_train, train_size=0.9, random_state=30)\n",
    "\n",
    "cnn_trained, history_cnn = train_model(cnn,\n",
    "                                       X_train,y_train,\n",
    "                                       X_val,y_val,\n",
    "                                       batch_size=512, \n",
    "                                       epochs=3,\n",
    "                                       filepath='saved_models/weights.best.from_scatch_cnn.hdf5')"
   ]
  },
  {
   "cell_type": "code",
   "execution_count": 88,
   "id": "767539c8",
   "metadata": {},
   "outputs": [],
   "source": [
    "with open('cnn_model.pkl', 'wb') as f:\n",
    "    pickle.dump(cnn, f)"
   ]
  },
  {
   "cell_type": "code",
   "execution_count": 89,
   "id": "2585eabf",
   "metadata": {},
   "outputs": [],
   "source": [
    "with open('cnn_model.pkl', 'rb') as f:\n",
    "    cnn_model = pickle.load(f)"
   ]
  },
  {
   "cell_type": "code",
   "execution_count": 90,
   "id": "70f8d145",
   "metadata": {},
   "outputs": [
    {
     "name": "stdout",
     "output_type": "stream",
     "text": [
      "404/404 [==============================] - 8s 20ms/step\n",
      "CNN_AUC: 98.12%\n"
     ]
    }
   ],
   "source": [
    "y_pred_val = cnn_model.predict(X_val)\n",
    "\n",
    "auc = roc_auc_score(y_val, y_pred_val)\n",
    "print(\"CNN_AUC: %.2f%%\" % (auc * 100))"
   ]
  },
  {
   "cell_type": "code",
   "execution_count": 91,
   "id": "1f2636fb",
   "metadata": {},
   "outputs": [
    {
     "data": {
      "image/png": "[encoded data removed]",
      "text/plain": [
       "<Figure size 432x288 with 1 Axes>"
      ]
     },
     "metadata": {},
     "output_type": "display_data"
    },
    {
     "name": "stdout",
     "output_type": "stream",
     "text": [
      "toxic AUC: 99.01%\n",
      "severe_toxic AUC: 98.93%\n",
      "obscene AUC: 99.21%\n",
      "threat AUC: 96.02%\n",
      "insult AUC: 98.61%\n",
      "identity_hate AUC: 96.92%\n"
     ]
    }
   ],
   "source": [
    "from sklearn.metrics import roc_curve, auc\n",
    "\n",
    "fpr = dict()\n",
    "tpr = dict()\n",
    "auc_score = dict()\n",
    "\n",
    "for i in range(len(attribute_names)):\n",
    "    fpr[i], tpr[i], _ = roc_curve(y_val[:, i], y_pred_val[:, i])\n",
    "    auc_score[i] = auc(fpr[i], tpr[i])\n",
    "\n",
    "for i in range(len(attribute_names)):\n",
    "    plt.plot(fpr[i], tpr[i], label='ROC curve (area = %0.2f)' % auc_score[i])\n",
    "\n",
    "plt.plot([0, 1], [0, 1], linestyle='--', color='r', label='Random Classifier')\n",
    "plt.xlabel('False Positive Rate')\n",
    "plt.ylabel('True Positive Rate')\n",
    "plt.title('ROC Curve - CNN')\n",
    "plt.legend()\n",
    "plt.show()\n",
    "\n",
    "for i in range(len(attribute_names)):\n",
    "    print(attribute_names[i] + ' AUC: %.2f%%' % (auc_score[i] * 100))"
   ]
  },
  {
   "cell_type": "markdown",
   "id": "740f4213",
   "metadata": {},
   "source": [
    "## Model 3 : GRU with an Embedding layer and the GRU layer"
   ]
  },
  {
   "cell_type": "code",
   "execution_count": null,
   "id": "750c32ca",
   "metadata": {},
   "outputs": [],
   "source": [
    "class roc_auc(Callback):\n",
    "    def __init__(self, training_data, validation_data):\n",
    "        self.x = training_data[0]\n",
    "        self.y = training_data[1]\n",
    "        self.x_val = validation_data[0]\n",
    "        self.y_val = validation_data[1]\n",
    " \n",
    "    def on_epoch_end(self, epoch, logs={}):\n",
    "        y_pred = self.model.predict(self.x)\n",
    "        roc = roc_auc_score(self.y, y_pred)\n",
    "        \n",
    "        y_pred_val = self.model.predict(self.x_val)\n",
    "        roc_val = roc_auc_score(self.y_val, y_pred_val)\n",
    "        \n",
    "        print('\\rroc-auc: %s - roc-auc_val: %s' % (str(round(roc, 4)), str(round(roc_val, 4))), end=100 * ' ' + '\\n')"
   ]
  },
  {
   "cell_type": "code",
   "execution_count": null,
   "id": "c2ec8433",
   "metadata": {},
   "outputs": [],
   "source": [
    "def train_model(model, X_train, y_train, X_val, y_val, batch_size, epochs, filepath):\n",
    "    # callbacks\n",
    "    checkpointer = ModelCheckpoint(filepath=filepath, verbose=1, save_best_only=True)\n",
    "    \n",
    "    roc = roc_auc(training_data=(X_train, y_train), validation_data=(X_val, y_val))\n",
    "    \n",
    "    # fit the model\n",
    "    history = model.fit(X_train, y_train,\n",
    "                        validation_data=(X_val, y_val),\n",
    "                        batch_size=batch_size,\n",
    "                        epochs=epochs,\n",
    "                        callbacks=[roc, checkpointer])\n",
    "    \n",
    "    # load the model with the best validation loss\n",
    "    model.load_weights(filepath)\n",
    "    \n",
    "    return model, history"
   ]
  },
  {
   "cell_type": "code",
   "execution_count": 69,
   "id": "67ec287f",
   "metadata": {},
   "outputs": [
    {
     "name": "stdout",
     "output_type": "stream",
     "text": [
      "Model: \"sequential_5\"\n",
      "_________________________________________________________________\n",
      " Layer (type)                Output Shape              Param #   \n",
      "=================================================================\n",
      " embedding_5 (Embedding)     (None, 250, 200)          5000000   \n",
      "                                                                 \n",
      " gru_1 (GRU)                 (None, 32)                22464     \n",
      "                                                                 \n",
      " dense_7 (Dense)             (None, 6)                 198       \n",
      "                                                                 \n",
      "=================================================================\n",
      "Total params: 5,022,662\n",
      "Trainable params: 5,022,662\n",
      "Non-trainable params: 0\n",
      "_________________________________________________________________\n"
     ]
    }
   ],
   "source": [
    "gru = Sequential()\n",
    "gru.add(Embedding(max_features, 200, input_length=max_len))\n",
    "gru.add(GRU(32, dropout=0.2, recurrent_dropout=0.2))  # Add GRU layer with 32 units\n",
    "gru.add(Dense(6, activation='sigmoid'))\n",
    "\n",
    "gru.compile(optimizer='adam', loss='binary_crossentropy', metrics=['accuracy'])\n",
    "gru.summary()"
   ]
  },
  {
   "cell_type": "code",
   "execution_count": 70,
   "id": "539d2fc5",
   "metadata": {},
   "outputs": [
    {
     "name": "stdout",
     "output_type": "stream",
     "text": [
      "Epoch 1/3\n",
      "3636/3636 [==============================] - 170s 47ms/step\n",
      "404/404 [==============================] - 17s 42ms/step\n",
      "roc-auc: 0.4959 - roc-auc_val: 0.5045                                                                                                    \n",
      "\n",
      "Epoch 1: val_loss improved from inf to 0.14205, saving model to saved_models/weights.best.from_scatch_gru.hdf5\n",
      "228/228 [==============================] - 686s 3s/step - loss: 0.1822 - accuracy: 0.7917 - val_loss: 0.1421 - val_accuracy: 0.9932\n",
      "Epoch 2/3\n",
      "3636/3636 [==============================] - 159s 44ms/step\n",
      "404/404 [==============================] - 19s 48ms/step\n",
      "roc-auc: 0.5021 - roc-auc_val: 0.5012                                                                                                    \n",
      "\n",
      "Epoch 2: val_loss did not improve from 0.14205\n",
      "228/228 [==============================] - 640s 3s/step - loss: 0.1402 - accuracy: 0.9936 - val_loss: 0.1421 - val_accuracy: 0.9933\n",
      "Epoch 3/3\n",
      "3636/3636 [==============================] - 183s 50ms/step\n",
      "404/404 [==============================] - 21s 51ms/step\n",
      "roc-auc: 0.5811 - roc-auc_val: 0.578                                                                                                    \n",
      "\n",
      "Epoch 3: val_loss improved from 0.14205 to 0.14200, saving model to saved_models/weights.best.from_scatch_gru.hdf5\n",
      "228/228 [==============================] - 693s 3s/step - loss: 0.1401 - accuracy: 0.9936 - val_loss: 0.1420 - val_accuracy: 0.9936\n"
     ]
    }
   ],
   "source": [
    "X_train, X_val, y_train, y_val = train_test_split(X_train, y_train, train_size=0.9, random_state=30)\n",
    "\n",
    "gru_trained, history_gru = train_model(gru,\n",
    "                                       X_train, y_train,\n",
    "                                       X_val, y_val,\n",
    "                                       batch_size=512,\n",
    "                                       epochs=3,\n",
    "                                       filepath='saved_models/weights.best.from_scatch_gru.hdf5')"
   ]
  },
  {
   "cell_type": "code",
   "execution_count": 92,
   "id": "fb3a1c6e",
   "metadata": {},
   "outputs": [],
   "source": [
    "with open('gru_model.pkl', 'wb') as f:\n",
    "    pickle.dump(gru, f)"
   ]
  },
  {
   "cell_type": "code",
   "execution_count": 93,
   "id": "fbbb201f",
   "metadata": {},
   "outputs": [],
   "source": [
    "with open('gru_model.pkl', 'rb') as f:\n",
    "    gru_model = pickle.load(f)"
   ]
  },
  {
   "cell_type": "code",
   "execution_count": 73,
   "id": "249bc9ff",
   "metadata": {},
   "outputs": [
    {
     "name": "stdout",
     "output_type": "stream",
     "text": [
      "404/404 [==============================] - 17s 41ms/step\n",
      "GRU_AUC: 57.80%\n"
     ]
    }
   ],
   "source": [
    "y_pred_val = gru_model.predict(X_val)\n",
    "\n",
    "auc = roc_auc_score(y_val, y_pred_val)\n",
    "print(\"GRU_AUC: %.2f%%\" % (auc * 100))"
   ]
  },
  {
   "cell_type": "code",
   "execution_count": 77,
   "id": "2b20ac42",
   "metadata": {},
   "outputs": [
    {
     "data": {
      "image/png": "[encoded data removed]",
      "text/plain": [
       "<Figure size 432x288 with 1 Axes>"
      ]
     },
     "metadata": {},
     "output_type": "display_data"
    },
    {
     "name": "stdout",
     "output_type": "stream",
     "text": [
      "toxic AUC: 58.53%\n",
      "severe_toxic AUC: 59.76%\n",
      "obscene AUC: 62.26%\n",
      "threat AUC: 58.73%\n",
      "insult AUC: 54.19%\n",
      "identity_hate AUC: 53.34%\n"
     ]
    }
   ],
   "source": [
    "from sklearn.metrics import roc_curve, auc\n",
    "fpr = dict()\n",
    "tpr = dict()\n",
    "roc_auc = dict()\n",
    "\n",
    "for i in range(len(attribute_names)):\n",
    "    fpr[i], tpr[i], _ = roc_curve(y_val[:, i], y_pred_val[:, i])\n",
    "    roc_auc[i] = auc(fpr[i], tpr[i])\n",
    "\n",
    "for i in range(len(attribute_names)):\n",
    "    plt.plot(fpr[i], tpr[i], label='ROC curve (area = %0.2f)' % roc_auc[i])\n",
    "\n",
    "plt.plot([0, 1], [0, 1], linestyle='--', color='r', label='Random Classifier')\n",
    "plt.xlabel('False Positive Rate')\n",
    "plt.ylabel('True Positive Rate')\n",
    "plt.title('ROC Curve - GRU')\n",
    "plt.legend()\n",
    "plt.show()\n",
    "\n",
    "for i in range(len(attribute_names)):\n",
    "    print(attribute_names[i] + ' AUC: %.2f%%' % (roc_auc[i] * 100))"
   ]
  },
  {
   "cell_type": "markdown",
   "id": "b4e73dad",
   "metadata": {},
   "source": [
    "## Result and Conclusion\n",
    "Various deep learning models were explored which includes GRU, LSTM, Simple RNN, CNN. The CNN model achieved the highest ROC AUC score of approximately 96% (SIGNS OF OVERFITTING), outperforming the other models. Also, n-grams TF-IDF Vectorizer is applied for the Logistic Regression model, It showed strong performance with a cross-validation score of 97%. \n",
    "\n",
    "F1 could also be used as an evaluation metric, it provides an overall performance measure that takes into account both the ability of the model to correctly identify positive instances (recall) and the ability to avoid misclassifying negative instances (precision)."
   ]
  }
 ],
 "metadata": {
  "kernelspec": {
   "display_name": "Python 3 (ipykernel)",
   "language": "python",
   "name": "python3"
  },
  "language_info": {
   "codemirror_mode": {
    "name": "ipython",
    "version": 3
   },
   "file_extension": ".py",
   "mimetype": "text/x-python",
   "name": "python",
   "nbconvert_exporter": "python",
   "pygments_lexer": "ipython3",
   "version": "3.9.12"
  }
 },
 "nbformat": 4,
 "nbformat_minor": 5
}
